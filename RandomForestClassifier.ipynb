{
 "cells": [
  {
   "cell_type": "markdown",
   "id": "6a1f0ded",
   "metadata": {},
   "source": [
    "# Libraries"
   ]
  },
  {
   "cell_type": "code",
   "execution_count": 91,
   "id": "9348a804",
   "metadata": {},
   "outputs": [],
   "source": [
    "import numpy as np\n",
    "import pandas as pd\n",
    "import pickle\n",
    "import matplotlib.pyplot as plt\n",
    "\n",
    "from sklearn.ensemble import RandomForestClassifier\n",
    "from sklearn.metrics import confusion_matrix\n",
    "\n"
   ]
  },
  {
   "cell_type": "markdown",
   "id": "6d0d870d",
   "metadata": {},
   "source": [
    "# Loading the files"
   ]
  },
  {
   "cell_type": "code",
   "execution_count": 92,
   "id": "dea00a33",
   "metadata": {},
   "outputs": [],
   "source": [
    "#pickle file for train set\n",
    "\n",
    "with open('/Users/divyansh/Downloads/Train-Test Data/train_features.pickle','rb') as f:\n",
    "    traindf=pickle.load(f)"
   ]
  },
  {
   "cell_type": "code",
   "execution_count": 93,
   "id": "b92d4eef",
   "metadata": {},
   "outputs": [
    {
     "data": {
      "text/plain": [
       "(4000, 162)"
      ]
     },
     "execution_count": 93,
     "metadata": {},
     "output_type": "execute_result"
    }
   ],
   "source": [
    "traindf.shape"
   ]
  },
  {
   "cell_type": "code",
   "execution_count": 94,
   "id": "11bd0891",
   "metadata": {},
   "outputs": [],
   "source": [
    "#pickle file for test set\n",
    "\n",
    "with open('/Users/divyansh/Downloads/Train-Test Data/test_features.pickle','rb') as f:\n",
    "    testdf=pickle.load(f)\n",
    "\n"
   ]
  },
  {
   "cell_type": "code",
   "execution_count": 95,
   "id": "b8efb3a0",
   "metadata": {},
   "outputs": [],
   "source": [
    "#Letting it test only on 100 files for now, we can tune this acc to our need\n",
    "#Not much of accuracy changes for the model, or has any greater impact\n",
    "\n",
    "testdf=testdf.iloc[0:100,:]"
   ]
  },
  {
   "cell_type": "code",
   "execution_count": 96,
   "id": "716ba5d7",
   "metadata": {},
   "outputs": [
    {
     "data": {
      "text/plain": [
       "(100, 162)"
      ]
     },
     "execution_count": 96,
     "metadata": {},
     "output_type": "execute_result"
    }
   ],
   "source": [
    "testdf.shape"
   ]
  },
  {
   "cell_type": "markdown",
   "id": "14e2f253",
   "metadata": {},
   "source": [
    "# Defining Train/Test Sets"
   ]
  },
  {
   "cell_type": "code",
   "execution_count": 97,
   "id": "5cd072b7",
   "metadata": {},
   "outputs": [],
   "source": [
    "#Training sets\n",
    "X_train=traindf.drop(labels='targets',axis=1)\n",
    "Y_train=traindf['targets']\n",
    "\n",
    "#Testing sets\n",
    "X_test=testdf.drop(labels='targets',axis=1)\n",
    "Y_test=testdf['targets']\n"
   ]
  },
  {
   "cell_type": "code",
   "execution_count": 98,
   "id": "7e0019d3",
   "metadata": {},
   "outputs": [],
   "source": [
    "instruments=['brass','bass','flute','guitar','keyboard','mallet','organ','reed','string','synth_lead','vocal']"
   ]
  },
  {
   "cell_type": "markdown",
   "id": "1169fb1a",
   "metadata": {},
   "source": [
    "# Random Forest Classifier"
   ]
  },
  {
   "cell_type": "code",
   "execution_count": 99,
   "id": "fea7b690",
   "metadata": {},
   "outputs": [],
   "source": [
    "#Initialize the Classifier\n",
    "\n",
    "rfclassifier = RandomForestClassifier(n_estimators=20,max_depth=50,warm_start=True)\n"
   ]
  },
  {
   "cell_type": "code",
   "execution_count": 100,
   "id": "3985e85f",
   "metadata": {},
   "outputs": [
    {
     "data": {
      "text/plain": [
       "RandomForestClassifier(max_depth=50, n_estimators=20, warm_start=True)"
      ]
     },
     "execution_count": 100,
     "metadata": {},
     "output_type": "execute_result"
    }
   ],
   "source": [
    "#Fitting the Classifier to X,Y train \n",
    "\n",
    "rfclassifier.fit(X_train,Y_train)\n"
   ]
  },
  {
   "cell_type": "code",
   "execution_count": 101,
   "id": "741145ac",
   "metadata": {},
   "outputs": [],
   "source": [
    "Predicted_Instrument=rfclassifier.predict(X_test)"
   ]
  },
  {
   "cell_type": "code",
   "execution_count": 102,
   "id": "0c335485",
   "metadata": {},
   "outputs": [
    {
     "name": "stdout",
     "output_type": "stream",
     "text": [
      "Accuracy of Random Forest is 86.00%\n"
     ]
    }
   ],
   "source": [
    "#Accuracy for Random Forest Classifier\n",
    "\n",
    "accuracy_rfc = np.mean(Predicted_Instrument == Y_test)\n",
    "print(\"Accuracy of Random Forest is {0:.2%}\".format(accuracy_rfc))\n",
    "\n"
   ]
  },
  {
   "cell_type": "markdown",
   "id": "729b8536",
   "metadata": {},
   "source": [
    "# Confusion Matrix"
   ]
  },
  {
   "cell_type": "code",
   "execution_count": 103,
   "id": "2129889e",
   "metadata": {},
   "outputs": [
    {
     "data": {
      "text/plain": [
       "array([[ 1,  0,  0,  0,  0,  0,  0,  0,  0,  0],\n",
       "       [ 0, 21,  0,  1,  1,  1,  0,  0,  0,  0],\n",
       "       [ 0,  0,  8,  0,  0,  0,  0,  0,  0,  0],\n",
       "       [ 0,  1,  0, 17,  1,  0,  0,  0,  0,  0],\n",
       "       [ 1,  0,  1,  2, 12,  0,  1,  1,  1,  0],\n",
       "       [ 0,  0,  0,  0,  0,  3,  0,  0,  0,  0],\n",
       "       [ 0,  1,  0,  0,  1,  0, 12,  0,  0,  0],\n",
       "       [ 0,  0,  0,  0,  0,  0,  0,  6,  0,  0],\n",
       "       [ 0,  0,  0,  0,  0,  0,  0,  0,  4,  0],\n",
       "       [ 0,  0,  0,  0,  0,  0,  0,  0,  0,  2]])"
      ]
     },
     "execution_count": 103,
     "metadata": {},
     "output_type": "execute_result"
    }
   ],
   "source": [
    "confusion_matrix(Y_test,Predicted_Instrument,normalize=None)\n"
   ]
  },
  {
   "cell_type": "markdown",
   "id": "460b28c1",
   "metadata": {},
   "source": [
    "# Plotting Confusion Matrix"
   ]
  },
  {
   "cell_type": "code",
   "execution_count": 104,
   "id": "17cad830",
   "metadata": {},
   "outputs": [],
   "source": [
    "def plot_confusion_matrix(cm, classes,\n",
    "                          normalize=False,\n",
    "                          title='Confusion matrix',\n",
    "                          cmap=plt.cm.Blues):\n",
    "    \"\"\"\n",
    "    This function prints and plots the confusion matrix.\n",
    "    Normalization can be applied by setting `normalize=True`.\n",
    "    \"\"\"\n",
    "    plt.imshow(cm, interpolation='nearest', cmap=cmap)\n",
    "    plt.title(title)\n",
    "    plt.colorbar()\n",
    "    tick_marks = np.arange(len(classes))\n",
    "    plt.xticks(tick_marks, classes, rotation=45)\n",
    "    plt.yticks(tick_marks, classes)\n",
    "\n",
    "    if normalize:\n",
    "        cm = cm.astype('float') / cm.sum(axis=1)[:, np.newaxis]\n",
    "        print(\"Normalized confusion matrix\")\n",
    "    else:\n",
    "        print('Confusion matrix, without normalization')\n",
    "\n",
    "    print(cm)\n",
    "\n",
    "    thresh = cm.max() / 2.\n",
    "    for i in range(cm.shape[0]):\n",
    "        for j in range(cm.shape[1]):\n",
    "            plt.text(j,i,cm[i,j],\n",
    "                     horizontalalignment=\"center\",\n",
    "                     color=\"white\" if cm[i,j] > thresh else \"black\")\n",
    "    plt.tight_layout()\n",
    "    plt.ylabel('True label')\n",
    "    plt.xlabel('Predicted label')"
   ]
  },
  {
   "cell_type": "code",
   "execution_count": 105,
   "id": "ed4dd5a8",
   "metadata": {},
   "outputs": [],
   "source": [
    "cm= confusion_matrix(Y_test,Predicted_Instrument,normalize=None)\n"
   ]
  },
  {
   "cell_type": "code",
   "execution_count": 106,
   "id": "e6087371",
   "metadata": {},
   "outputs": [
    {
     "name": "stdout",
     "output_type": "stream",
     "text": [
      "Confusion matrix, without normalization\n",
      "[[ 1  0  0  0  0  0  0  0  0  0]\n",
      " [ 0 21  0  1  1  1  0  0  0  0]\n",
      " [ 0  0  8  0  0  0  0  0  0  0]\n",
      " [ 0  1  0 17  1  0  0  0  0  0]\n",
      " [ 1  0  1  2 12  0  1  1  1  0]\n",
      " [ 0  0  0  0  0  3  0  0  0  0]\n",
      " [ 0  1  0  0  1  0 12  0  0  0]\n",
      " [ 0  0  0  0  0  0  0  6  0  0]\n",
      " [ 0  0  0  0  0  0  0  0  4  0]\n",
      " [ 0  0  0  0  0  0  0  0  0  2]]\n"
     ]
    },
    {
     "data": {
      "image/png": "[encoded data removed]",
      "text/plain": [
       "<Figure size 432x288 with 2 Axes>"
      ]
     },
     "metadata": {
      "needs_background": "light"
     },
     "output_type": "display_data"
    }
   ],
   "source": [
    "plot_confusion_matrix(cm=cm, classes = instruments, title= 'Confusion Matrix')"
   ]
  },
  {
   "cell_type": "code",
   "execution_count": 107,
   "id": "e046a8cb",
   "metadata": {},
   "outputs": [],
   "source": [
    "#Tested on a 100 test examples, where theres unequal distribution for instrument files.\n",
    "#That's no worry, if we test it on the entire test dataset then the numbers would change for each instrument family."
   ]
  },
  {
   "cell_type": "markdown",
   "id": "d9427345",
   "metadata": {},
   "source": [
    "# References\n",
    "\n",
    "- [Scikit-Learn](https://scikit-learn.org/0.18/auto_examples/model_selection/plot_confusion_matrix.html)\n",
    "    Used their sample code for displaying the Confusion Matrix"
   ]
  },
  {
   "cell_type": "code",
   "execution_count": null,
   "id": "9d8fc5df",
   "metadata": {},
   "outputs": [],
   "source": []
  }
 ],
 "metadata": {
  "kernelspec": {
   "display_name": "Python 3",
   "language": "python",
   "name": "python3"
  },
  "language_info": {
   "codemirror_mode": {
    "name": "ipython",
    "version": 3
   },
   "file_extension": ".py",
   "mimetype": "text/x-python",
   "name": "python",
   "nbconvert_exporter": "python",
   "pygments_lexer": "ipython3",
   "version": "3.7.6"
  }
 },
 "nbformat": 4,
 "nbformat_minor": 5
}
